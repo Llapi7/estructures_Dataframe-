{
 "cells": [
  {
   "cell_type": "markdown",
   "id": "7f4c5e19",
   "metadata": {},
   "source": [
    "* Exercici 1\n",
    "\n",
    "Realitza web scraping de dues de les tres pàgines web proposades utilitzant BeautifulSoup primer i Selenium després. \n",
    "\n",
    "- http://quotes.toscrape.com\n",
    "\n",
    "- https://www.bolsamadrid.es\n",
    "\n",
    "- www.wikipedia.es (fes alguna cerca primer i escrapeja algun contingut)\n",
    "\n",
    "\n",
    "\n",
    "\n",
    "* Exercici 2\n",
    "\n",
    "Documenta en un Word el teu conjunt de dades generat amb la informació que tenen els diferents arxius de Kaggle.\n",
    "\n",
    "Per saber més\n",
    "\n",
    "A manera d'exemple del que es demana pots consultar aquest enllaç:\n",
    "\n",
    "->https://www.kaggle.com/datasets/vivovinco/20212022-football-team-stats.\n",
    "\n",
    "\n",
    "- Exercici 3\n",
    "\n",
    "Tria una pàgina web que tu vulguis i realitza web scraping mitjançant la llibreria Selenium primer i Scrapy després. \n",
    "\n",
    "\n",
    "\n",
    "\n",
    "\n",
    "\n",
    "\n"
   ]
  },
  {
   "cell_type": "markdown",
   "id": "082129a5",
   "metadata": {},
   "source": [
    "# EX1 BEAUTIFUL SOUP"
   ]
  },
  {
   "cell_type": "code",
   "execution_count": 10,
   "id": "e8261cc0",
   "metadata": {},
   "outputs": [],
   "source": [
    "from bs4 import BeautifulSoup\n",
    "import requests\n",
    "import pandas as pd\n"
   ]
  },
  {
   "cell_type": "code",
   "execution_count": 11,
   "id": "4b4c27c7",
   "metadata": {},
   "outputs": [],
   "source": [
    "website = 'http://quotes.toscrape.com'\n",
    "result = requests.get ( website,auth=('user', 'pass')).text"
   ]
  },
  {
   "cell_type": "code",
   "execution_count": 12,
   "id": "44b938d7",
   "metadata": {},
   "outputs": [],
   "source": [
    "#content = result.text"
   ]
  },
  {
   "cell_type": "code",
   "execution_count": 13,
   "id": "de7bfe15",
   "metadata": {},
   "outputs": [],
   "source": [
    "soup = BeautifulSoup(result, 'html.parser')"
   ]
  },
  {
   "cell_type": "code",
   "execution_count": 14,
   "id": "465ce69a",
   "metadata": {},
   "outputs": [],
   "source": [
    "results = soup.find_all('div', class_='quote')"
   ]
  },
  {
   "cell_type": "code",
   "execution_count": 15,
   "id": "79b77b1b",
   "metadata": {},
   "outputs": [
    {
     "name": "stdout",
     "output_type": "stream",
     "text": [
      "“The world as we have created it is a process of our thinking. It cannot be changed without changing our thinking.”\n",
      "Albert Einstein\n",
      "['change', 'deep-thoughts', 'thinking', 'world'] \n",
      "\n",
      "“It is our choices, Harry, that show what we truly are, far more than our abilities.”\n",
      "J.K. Rowling\n",
      "['abilities', 'choices'] \n",
      "\n",
      "“There are only two ways to live your life. One is as though nothing is a miracle. The other is as though everything is a miracle.”\n",
      "Albert Einstein\n",
      "['inspirational', 'life', 'live', 'miracle', 'miracles'] \n",
      "\n",
      "“The person, be it gentleman or lady, who has not pleasure in a good novel, must be intolerably stupid.”\n",
      "Jane Austen\n",
      "['aliteracy', 'books', 'classic', 'humor'] \n",
      "\n",
      "“Imperfection is beauty, madness is genius and it's better to be absolutely ridiculous than absolutely boring.”\n",
      "Marilyn Monroe\n",
      "['be-yourself', 'inspirational'] \n",
      "\n",
      "“Try not to become a man of success. Rather become a man of value.”\n",
      "Albert Einstein\n",
      "['adulthood', 'success', 'value'] \n",
      "\n",
      "“It is better to be hated for what you are than to be loved for what you are not.”\n",
      "André Gide\n",
      "['life', 'love'] \n",
      "\n",
      "“I have not failed. I've just found 10,000 ways that won't work.”\n",
      "Thomas A. Edison\n",
      "['edison', 'failure', 'inspirational', 'paraphrased'] \n",
      "\n",
      "“A woman is like a tea bag; you never know how strong it is until it's in hot water.”\n",
      "Eleanor Roosevelt\n",
      "['misattributed-eleanor-roosevelt'] \n",
      "\n",
      "“A day without sunshine is like, you know, night.”\n",
      "Steve Martin\n",
      "['humor', 'obvious', 'simile'] \n",
      "\n"
     ]
    }
   ],
   "source": [
    "for element in results:\n",
    "    \n",
    "    quote = element.find('span', class_=\"text\").text\n",
    "    author = element.find('small', class_=\"author\").text\n",
    "    tag_html = element.find_all(\"a\", class_=\"tag\")\n",
    "    tag_list=[]\n",
    "    for tag in tag_html:\n",
    "        tag_list.append(tag.text)\n",
    "    print(quote)\n",
    "    print(author)\n",
    "    print(tag_list, '\\n')\n"
   ]
  },
  {
   "cell_type": "markdown",
   "id": "8047550f",
   "metadata": {},
   "source": [
    "Vemos que solo ha recogido las citas (10) para la primera página, haremos un bucle para que recorra todas las páginas. Antipicipamos y creamos el DF en el que vamos a guardar los resultados"
   ]
  },
  {
   "cell_type": "code",
   "execution_count": 16,
   "id": "afe6b74c",
   "metadata": {},
   "outputs": [],
   "source": [
    "# DF vacío\n",
    "\n",
    "df = pd.DataFrame(columns = ['Cita','Autor','tags'])"
   ]
  },
  {
   "cell_type": "code",
   "execution_count": 17,
   "id": "3e9542db",
   "metadata": {},
   "outputs": [],
   "source": [
    "# Mismo proceso de recolecta anterior pero para todas las páginas de la web\n",
    "\n",
    "\n",
    "\n",
    "for i in range(1,11):\n",
    "    website =\"http://quotes.toscrape.com/page/\"+str(i)+\"/\"\n",
    "    result = requests.get ( website,auth=('user', 'pass'))\n",
    "    content = result.text\n",
    "    soup = BeautifulSoup(content, 'html.parser')\n",
    "    results = soup.find_all('div', class_='quote')\n",
    "\n",
    "\n",
    "    for element in results:\n",
    "        result = requests.get ( website,auth=('user', 'pass'))\n",
    "        quote = element.find('span', class_=\"text\").text\n",
    "        author = element.find('small', class_=\"author\").text\n",
    "        tag_html = element.find_all(\"a\", class_=\"tag\")\n",
    "        tag_list=[]\n",
    "        for tag in tag_html:\n",
    "            tag_list.append(tag.text)\n",
    "        df = pd.concat([df, pd.DataFrame([{'Cita': quote, 'Autor':author, 'tags': tag_list}])], ignore_index=True)\n",
    "        \n"
   ]
  },
  {
   "cell_type": "code",
   "execution_count": 18,
   "id": "637c7ce4",
   "metadata": {},
   "outputs": [
    {
     "data": {
      "text/html": [
       "<div>\n",
       "<style scoped>\n",
       "    .dataframe tbody tr th:only-of-type {\n",
       "        vertical-align: middle;\n",
       "    }\n",
       "\n",
       "    .dataframe tbody tr th {\n",
       "        vertical-align: top;\n",
       "    }\n",
       "\n",
       "    .dataframe thead th {\n",
       "        text-align: right;\n",
       "    }\n",
       "</style>\n",
       "<table border=\"1\" class=\"dataframe\">\n",
       "  <thead>\n",
       "    <tr style=\"text-align: right;\">\n",
       "      <th></th>\n",
       "      <th>Cita</th>\n",
       "      <th>Autor</th>\n",
       "      <th>tags</th>\n",
       "    </tr>\n",
       "  </thead>\n",
       "  <tbody>\n",
       "    <tr>\n",
       "      <th>0</th>\n",
       "      <td>“The world as we have created it is a process ...</td>\n",
       "      <td>Albert Einstein</td>\n",
       "      <td>[change, deep-thoughts, thinking, world]</td>\n",
       "    </tr>\n",
       "    <tr>\n",
       "      <th>1</th>\n",
       "      <td>“It is our choices, Harry, that show what we t...</td>\n",
       "      <td>J.K. Rowling</td>\n",
       "      <td>[abilities, choices]</td>\n",
       "    </tr>\n",
       "    <tr>\n",
       "      <th>2</th>\n",
       "      <td>“There are only two ways to live your life. On...</td>\n",
       "      <td>Albert Einstein</td>\n",
       "      <td>[inspirational, life, live, miracle, miracles]</td>\n",
       "    </tr>\n",
       "    <tr>\n",
       "      <th>3</th>\n",
       "      <td>“The person, be it gentleman or lady, who has ...</td>\n",
       "      <td>Jane Austen</td>\n",
       "      <td>[aliteracy, books, classic, humor]</td>\n",
       "    </tr>\n",
       "    <tr>\n",
       "      <th>4</th>\n",
       "      <td>“Imperfection is beauty, madness is genius and...</td>\n",
       "      <td>Marilyn Monroe</td>\n",
       "      <td>[be-yourself, inspirational]</td>\n",
       "    </tr>\n",
       "  </tbody>\n",
       "</table>\n",
       "</div>"
      ],
      "text/plain": [
       "                                                Cita            Autor  \\\n",
       "0  “The world as we have created it is a process ...  Albert Einstein   \n",
       "1  “It is our choices, Harry, that show what we t...     J.K. Rowling   \n",
       "2  “There are only two ways to live your life. On...  Albert Einstein   \n",
       "3  “The person, be it gentleman or lady, who has ...      Jane Austen   \n",
       "4  “Imperfection is beauty, madness is genius and...   Marilyn Monroe   \n",
       "\n",
       "                                             tags  \n",
       "0        [change, deep-thoughts, thinking, world]  \n",
       "1                            [abilities, choices]  \n",
       "2  [inspirational, life, live, miracle, miracles]  \n",
       "3              [aliteracy, books, classic, humor]  \n",
       "4                    [be-yourself, inspirational]  "
      ]
     },
     "execution_count": 18,
     "metadata": {},
     "output_type": "execute_result"
    }
   ],
   "source": [
    "df.head()"
   ]
  },
  {
   "cell_type": "code",
   "execution_count": 19,
   "id": "4edb4cb8",
   "metadata": {},
   "outputs": [
    {
     "data": {
      "text/plain": [
       "(100, 3)"
      ]
     },
     "execution_count": 19,
     "metadata": {},
     "output_type": "execute_result"
    }
   ],
   "source": [
    "df.shape "
   ]
  },
  {
   "cell_type": "markdown",
   "id": "2e8b8328",
   "metadata": {},
   "source": [
    "Esta vez sí parece ha recogido todas las citas. Lo guardamos en un fichero Csv"
   ]
  },
  {
   "cell_type": "code",
   "execution_count": 20,
   "id": "99d3e5ae",
   "metadata": {},
   "outputs": [],
   "source": [
    "df.to_csv(\"Citas_Célebres.csv\")"
   ]
  },
  {
   "cell_type": "markdown",
   "id": "0417458e",
   "metadata": {},
   "source": [
    "\n",
    "WIKIPEDIA ( BeautifulSoup)"
   ]
  },
  {
   "cell_type": "code",
   "execution_count": 75,
   "id": "451689f7",
   "metadata": {},
   "outputs": [],
   "source": [
    "website3 = 'https://es.wikipedia.org/wiki/Distritos_de_Barcelona'\n",
    "result3 = requests.get ( website3,auth=('user', 'pass'))"
   ]
  },
  {
   "cell_type": "code",
   "execution_count": 76,
   "id": "21534c3b",
   "metadata": {},
   "outputs": [],
   "source": [
    "content3 = result3.text"
   ]
  },
  {
   "cell_type": "code",
   "execution_count": 77,
   "id": "f5ed2b87",
   "metadata": {},
   "outputs": [],
   "source": [
    "soup3 = BeautifulSoup(content3, 'html.parser')"
   ]
  },
  {
   "cell_type": "code",
   "execution_count": 78,
   "id": "a62f3c8f",
   "metadata": {
    "scrolled": false
   },
   "outputs": [],
   "source": [
    "#results3 = soup3.find('div', id=\"mw-content-text\") .....nos ahorramos este paso porque ya sabemos que tabla buscamos\n",
    "\n",
    "tabs3 = soup3.find_all('table', class_=\"wikitable\")"
   ]
  },
  {
   "cell_type": "code",
   "execution_count": 79,
   "id": "392a2cb8",
   "metadata": {},
   "outputs": [
    {
     "name": "stdout",
     "output_type": "stream",
     "text": [
      "1\n",
      "Distrito :   Ciudad Vieja\n",
      "Densidad(hab/km2):  103 429\n",
      "Barrios:  El Raval (1), Barrio Gótico (2), La Barceloneta (3) y San Pedro, Santa Catalina y la Ribera (4)\n",
      "Superficie (km2):  4,11\n",
      "\n",
      "2\n",
      "Distrito :  Ensanche\n",
      "Densidad(hab/km2):  265 910\n",
      "Barrios:  El Fort Pienc (5), Sagrada Familia (6), La Derecha del Ensanche (7), La Antigua Izquierda del Ensanche (8), La Nueva Izquierda del Ensanche (9) y San Antonio (10)\n",
      "Superficie (km2):  7,46\n",
      "\n",
      "3\n",
      "Distrito :  Sants-Montjuïc\n",
      "Densidad(hab/km2):  184 091\n",
      "Barrios:  Pueblo Seco (11), La Marina del Prat Vermell (12), La Marina de Port (13), La Font de la Guatlla (14), Hostafrancs (15), La Bordeta (16), Sants-Badal (17), Sants (18), Zona Franca (*) y Montjuïc (*)\n",
      "Superficie (km2):  22,68\n",
      "\n",
      "4\n",
      "Distrito :  Les Corts\n",
      "Densidad(hab/km2):  81 974\n",
      "Barrios:  Les Corts (19), La Maternidad y San Ramón  (20) y Pedralbes (21)\n",
      "Superficie (km2):  6,02\n",
      "\n",
      "5\n",
      "Distrito :  Sarriá-San Gervasio|\n",
      "Densidad(hab/km2):  149 260\n",
      "Barrios:  Vallvidrera, el Tibidabo i les Planes (22), Sarriá (23), Las Tres Torres (24), Sant Gervasi-Bonanova (25), Sant Gervasi-Galvany (26) y El Putxet i el Farró  (27)\n",
      "Superficie (km2):  19,91\n",
      "\n",
      "6\n",
      "Distrito :  Gracia\n",
      "Densidad(hab/km2):  121 798\n",
      "Barrios:  Vallcarca y los Penitentes (28), El Coll (29), La Salud (30), Villa de Gracia (31) y Camp d'en Grassot i Gràcia Nova (32)\n",
      "Superficie (km2):  4,19\n",
      "\n",
      "7\n",
      "Distrito :  Horta-Guinardó\n",
      "Densidad(hab/km2):  171 495\n",
      "Barrios:  Baix Guinardó (33), Can Baró (34), El Guinardó (35), La Font d'en Fargues (36), El Carmelo (37), La Teixonera (38), Sant Genís dels Agudells (39), Montbau (40), El Valle de Hebrón (41), La Clota (42) y Horta (43)\n",
      "Superficie (km2):  11,96\n",
      "\n",
      "8\n",
      "Distrito :  Nou Barris\n",
      "Densidad(hab/km2):  170 669\n",
      "Barrios:  Vilapicina y La Torre Llobeta (44), Porta (45), Turó de la Peira (46), Can Peguera (47), La Guineueta (48),  Canyelles (49), Les Roquetes (50), Verdún (51), La Prosperitat (52), La Trinitat Nova (53), Torre Baró (54), Ciudad Meridiana (55) y Vallbona (56)\n",
      "Superficie (km2):  8,05\n",
      "\n",
      "9\n",
      "Distrito :  San Andrés\n",
      "Densidad(hab/km2):  149 821\n",
      "Barrios:  La Trinitat Vella (57), Baró de Viver (58), El Buen Pastor (59), San Andrés (60), La Sagrera (61), Congrés i els Indians (62) y Navas (63)\n",
      "Superficie (km2):  6,59\n",
      "\n",
      "10\n",
      "Distrito :  San Martín\n",
      "Densidad(hab/km2):  238 315\n",
      "Barrios:  El Campo del Arpa del Clot (64), El Clot (65), El Parc i la Llacuna del Poblenou (66), La Villa Olímpica del Poblenou (67), Pueblo Nuevo (68), Diagonal Mar i Front Marítim del Poblenou (69), El Besós y el Maresme (70), Provençals del Poblenou (71), San Martín de Provensals (72) y La Verneda y la Paz (73)\n",
      "Superficie (km2):  10,39\n",
      "\n"
     ]
    }
   ],
   "source": [
    "for x in tabs3[0].find_all('tr')[1:]:   # nos saltamos el primer 'tr' pues es el encabezado y no lo queremos\n",
    "    \n",
    "    print( x.find_all('td')[0].text + 'Distrito : ',  x.find_all('td')[1].text + 'Densidad(hab/km2): ', x.find_all('td')[4].text + 'Barrios: ', x.find_all('td')[6].text + 'Superficie (km2): ', x.find_all('td')[3].text)\n"
   ]
  },
  {
   "cell_type": "markdown",
   "id": "e80ae1a6",
   "metadata": {},
   "source": [
    " # SELENIUM   ( static)\n",
    "   tomaremos la misma página de Wikipedia Distritos de BCN"
   ]
  },
  {
   "cell_type": "code",
   "execution_count": 31,
   "id": "011455ba",
   "metadata": {},
   "outputs": [],
   "source": [
    "#pip install selenium"
   ]
  },
  {
   "cell_type": "code",
   "execution_count": 32,
   "id": "c31ace03",
   "metadata": {},
   "outputs": [],
   "source": [
    "from selenium import webdriver\n",
    "from selenium.webdriver import Firefox\n",
    "from selenium.webdriver.firefox.options import Options\n",
    "from selenium.webdriver.common.by import By \n",
    "\n",
    "opts = Options()\n",
    "opts.headless= True\n",
    "assert opts.headless  # Operating in headless mode\n",
    "\n",
    "browser = Firefox(options=opts)\n",
    "browser.get('https://es.wikipedia.org/wiki/Distritos_de_Barcelona')"
   ]
  },
  {
   "cell_type": "code",
   "execution_count": 33,
   "id": "fc690ba1",
   "metadata": {},
   "outputs": [
    {
     "name": "stdout",
     "output_type": "stream",
     "text": [
      "\n",
      "\n",
      "Distrito: Ciudad Vieja\n",
      "Superficie (KM2): 4,11\n",
      "Densidad (hab/KM2) : 103 429\n",
      "Barrios : El Raval (1), Barrio Gótico (2), La Barceloneta (3) y San Pedro, Santa Catalina y la Ribera (4)\n",
      "\n",
      "\n",
      "Distrito: Ensanche\n",
      "Superficie (KM2): 7,46\n",
      "Densidad (hab/KM2) : 265 910\n",
      "Barrios : El Fort Pienc (5), Sagrada Familia (6), La Derecha del Ensanche (7), La Antigua Izquierda del Ensanche (8), La Nueva Izquierda del Ensanche (9) y San Antonio (10)\n",
      "\n",
      "\n",
      "Distrito: Sants-Montjuïc\n",
      "Superficie (KM2): 22,68\n",
      "Densidad (hab/KM2) : 184 091\n",
      "Barrios : Pueblo Seco (11), La Marina del Prat Vermell (12), La Marina de Port (13), La Font de la Guatlla (14), Hostafrancs (15), La Bordeta (16), Sants-Badal (17), Sants (18), Zona Franca (*) y Montjuïc (*)\n",
      "\n",
      "\n",
      "Distrito: Les Corts\n",
      "Superficie (KM2): 6,02\n",
      "Densidad (hab/KM2) : 81 974\n",
      "Barrios : Les Corts (19), La Maternidad y San Ramón (20) y Pedralbes (21)\n",
      "\n",
      "\n",
      "Distrito: Sarriá-San Gervasio|\n",
      "Superficie (KM2): 19,91\n",
      "Densidad (hab/KM2) : 149 260\n",
      "Barrios : Vallvidrera, el Tibidabo i les Planes (22), Sarriá (23), Las Tres Torres (24), Sant Gervasi-Bonanova (25), Sant Gervasi-Galvany (26) y El Putxet i el Farró (27)\n",
      "\n",
      "\n",
      "Distrito: Gracia\n",
      "Superficie (KM2): 4,19\n",
      "Densidad (hab/KM2) : 121 798\n",
      "Barrios : Vallcarca y los Penitentes (28), El Coll (29), La Salud (30), Villa de Gracia (31) y Camp d'en Grassot i Gràcia Nova (32)\n",
      "\n",
      "\n",
      "Distrito: Horta-Guinardó\n",
      "Superficie (KM2): 11,96\n",
      "Densidad (hab/KM2) : 171 495\n",
      "Barrios : Baix Guinardó (33), Can Baró (34), El Guinardó (35), La Font d'en Fargues (36), El Carmelo (37), La Teixonera (38), Sant Genís dels Agudells (39), Montbau (40), El Valle de Hebrón (41), La Clota (42) y Horta (43)\n",
      "\n",
      "\n",
      "Distrito: Nou Barris\n",
      "Superficie (KM2): 8,05\n",
      "Densidad (hab/KM2) : 170 669\n",
      "Barrios : Vilapicina y La Torre Llobeta (44), Porta (45), Turó de la Peira (46), Can Peguera (47), La Guineueta (48), Canyelles (49), Les Roquetes (50), Verdún (51), La Prosperitat (52), La Trinitat Nova (53), Torre Baró (54), Ciudad Meridiana (55) y Vallbona (56)\n",
      "\n",
      "\n",
      "Distrito: San Andrés\n",
      "Superficie (KM2): 6,59\n",
      "Densidad (hab/KM2) : 149 821\n",
      "Barrios : La Trinitat Vella (57), Baró de Viver (58), El Buen Pastor (59), San Andrés (60), La Sagrera (61), Congrés i els Indians (62) y Navas (63)\n",
      "\n",
      "\n",
      "Distrito: San Martín\n",
      "Superficie (KM2): 10,39\n",
      "Densidad (hab/KM2) : 238 315\n",
      "Barrios : El Campo del Arpa del Clot (64), El Clot (65), El Parc i la Llacuna del Poblenou (66), La Villa Olímpica del Poblenou (67), Pueblo Nuevo (68), Diagonal Mar i Front Marítim del Poblenou (69), El Besós y el Maresme (70), Provençals del Poblenou (71), San Martín de Provensals (72) y La Verneda y la Paz (73)\n"
     ]
    }
   ],
   "source": [
    "\n",
    "Search2= browser.find_element(By.XPATH,'/html/body/div[2]/div/div[3]/main/div[3]/div[3]/div[1]/table')\n",
    "\n",
    "for row in Search2.find_elements(By.CSS_SELECTOR, 'tr')[1:]:   # nos saltamos el primer 'tr' pues es el encabezado y no lo queremos:\n",
    "    i=0\n",
    "    print('\\n')\n",
    "    for cell in row.find_elements(By.CSS_SELECTOR, 'td'):\n",
    "        \n",
    "        if i== 1:\n",
    "            print('Distrito:', cell.text)\n",
    "        if i== 3:\n",
    "            print('Superficie (KM2):',cell.text)\n",
    "            \n",
    "        if i==4:\n",
    "            print('Densidad (hab/KM2) :', cell.text)\n",
    "        if i==6:\n",
    "            print('Barrios :', cell.text)    \n",
    "        \n",
    "        i=i+1"
   ]
  },
  {
   "cell_type": "markdown",
   "id": "1edd1cb0",
   "metadata": {},
   "source": [
    "# Selenium web dinámica"
   ]
  },
  {
   "cell_type": "markdown",
   "id": "5f4f4f53",
   "metadata": {},
   "source": [
    "### "
   ]
  },
  {
   "cell_type": "code",
   "execution_count": 85,
   "id": "063dcaf0",
   "metadata": {},
   "outputs": [],
   "source": [
    "from selenium import webdriver\n",
    "from selenium.webdriver import Firefox\n",
    "from selenium.webdriver.firefox.options import Options\n",
    "\n",
    "opts = Options()\n",
    "opts.headless= True\n",
    "assert opts.headless  # Operating in headless mode\n",
    "\n",
    "browser = Firefox(options=opts)"
   ]
  },
  {
   "cell_type": "code",
   "execution_count": 86,
   "id": "9a532ce8",
   "metadata": {},
   "outputs": [],
   "source": [
    "browser.get('https://www.bolsasymercados.es/bme-exchange/es/Mercados-y-Cotizaciones/Acciones/Mercado-Continuo/Precios/ibex-35-ES0SI0000005')"
   ]
  },
  {
   "cell_type": "code",
   "execution_count": 88,
   "id": "3d9809d3",
   "metadata": {},
   "outputs": [],
   "source": [
    "from selenium.webdriver.common.by import By\n",
    "\n",
    "#Search3= browser.find_element(By.XPATH,'/html/body/main/div/div/div/div[2]/div[5]/table')\n",
    "Search3= browser.find_element(By.XPATH,'/html/body/main/div/div/div/div[2]/div[5]')"
   ]
  },
  {
   "cell_type": "code",
   "execution_count": 91,
   "id": "5d064bea",
   "metadata": {},
   "outputs": [],
   "source": [
    "# Anticipamos, este será el DataFrame al que cargaremos nuestros resultados\n",
    "\n",
    "df3 = pd.DataFrame(columns=['Título', 'Cotizacion_previa', 'Diferencia'])\n"
   ]
  },
  {
   "cell_type": "code",
   "execution_count": 100,
   "id": "ba102942",
   "metadata": {},
   "outputs": [
    {
     "name": "stdout",
     "output_type": "stream",
     "text": [
      "\n",
      "\n",
      "\n",
      "\n",
      "Título: ACCIONA\n",
      "Cotizacion previa : 107,9500\n",
      "Diferencia: 0,42%\n",
      "\n",
      "\n",
      "Título: ACCIONA ENER\n",
      "Cotizacion previa : 20,6400\n",
      "Diferencia: -1,24%\n",
      "\n",
      "\n",
      "Título: ACERINOX\n",
      "Cotizacion previa : 10,2200\n",
      "Diferencia: -0,97%\n",
      "\n",
      "\n",
      "Título: ACS\n",
      "Cotizacion previa : 36,9600\n",
      "Diferencia: 1,40%\n",
      "\n",
      "\n",
      "Título: AENA\n",
      "Cotizacion previa : 169,3500\n",
      "Diferencia: 0,65%\n",
      "\n",
      "\n",
      "Título: AMADEUS\n",
      "Cotizacion previa : 61,5000\n",
      "Diferencia: 1,28%\n",
      "\n",
      "\n",
      "Título: ARCELORMIT.\n",
      "Cotizacion previa : 24,4600\n",
      "Diferencia: -1,63%\n",
      "\n",
      "\n",
      "Título: B.SANTANDER\n",
      "Cotizacion previa : 3,7495\n",
      "Diferencia: 0,32%\n",
      "\n",
      "\n",
      "Título: BA.SABADELL\n",
      "Cotizacion previa : 1,1755\n",
      "Diferencia: -0,30%\n",
      "\n",
      "\n",
      "Título: BANKINTER\n",
      "Cotizacion previa : 5,6660\n",
      "Diferencia: 0,18%\n",
      "\n",
      "\n",
      "Título: BBVA\n",
      "Cotizacion previa : 9,0080\n",
      "Diferencia: -0,20%\n",
      "\n",
      "\n",
      "Título: CAIXABANK\n",
      "Cotizacion previa : 4,0520\n",
      "Diferencia: 0,35%\n",
      "\n",
      "\n",
      "Título: CELLNEX\n",
      "Cotizacion previa : 32,9900\n",
      "Diferencia: -0,48%\n",
      "\n",
      "\n",
      "Título: ENAGAS\n",
      "Cotizacion previa : 14,6350\n",
      "Diferencia: 0,58%\n",
      "\n",
      "\n",
      "Título: ENDESA\n",
      "Cotizacion previa : 16,5800\n",
      "Diferencia: 0,00%\n",
      "\n",
      "\n",
      "Título: FERROVIAL SE\n",
      "Cotizacion previa : 35,2100\n",
      "Diferencia: 0,14%\n",
      "\n",
      "\n",
      "Título: FLUIDRA\n",
      "Cotizacion previa : 21,2000\n",
      "Diferencia: 0,09%\n",
      "\n",
      "\n",
      "Título: GRIFOLS CL.A\n",
      "Cotizacion previa : 10,4200\n",
      "Diferencia: -5,01%\n",
      "\n",
      "\n",
      "Título: IAG\n",
      "Cotizacion previa : 1,7105\n",
      "Diferencia: -0,09%\n",
      "\n",
      "\n",
      "Título: IBERDROLA\n",
      "Cotizacion previa : 10,8500\n",
      "Diferencia: 0,51%\n",
      "\n",
      "\n",
      "Título: INDITEX\n",
      "Cotizacion previa : 39,7700\n",
      "Diferencia: 0,25%\n",
      "\n",
      "\n",
      "Título: INDRA A\n",
      "Cotizacion previa : 15,8900\n",
      "Diferencia: 0,00%\n",
      "\n",
      "\n",
      "Título: INM.COLONIAL\n",
      "Cotizacion previa : 5,1250\n",
      "Diferencia: -0,39%\n",
      "\n",
      "\n",
      "Título: LOGISTA\n",
      "Cotizacion previa : 26,7400\n",
      "Diferencia: 0,22%\n",
      "\n",
      "\n",
      "Título: MAPFRE\n",
      "Cotizacion previa : 1,9460\n",
      "Diferencia: -0,10%\n",
      "\n",
      "\n",
      "Título: MELIA HOTELS\n",
      "Cotizacion previa : 6,6400\n",
      "Diferencia: 8,50%\n",
      "\n",
      "\n",
      "Título: MERLIN\n",
      "Cotizacion previa : 9,1300\n",
      "Diferencia: -0,44%\n",
      "\n",
      "\n",
      "Título: NATURGY\n",
      "Cotizacion previa : 22,8200\n",
      "Diferencia: -0,35%\n",
      "\n",
      "\n",
      "Título: REDEIA\n",
      "Cotizacion previa : 14,9450\n",
      "Diferencia: 0,84%\n",
      "\n",
      "\n",
      "Título: REPSOL\n",
      "Cotizacion previa : 13,7500\n",
      "Diferencia: -0,43%\n",
      "\n",
      "\n",
      "Título: ROVI\n",
      "Cotizacion previa : 70,7500\n",
      "Diferencia: 0,21%\n",
      "\n",
      "\n",
      "Título: SACYR\n",
      "Cotizacion previa : 3,0620\n",
      "Diferencia: -0,26%\n",
      "\n",
      "\n",
      "Título: SOLARIA\n",
      "Cotizacion previa : 12,1100\n",
      "Diferencia: -0,66%\n",
      "\n",
      "\n",
      "Título: TELEFONICA\n",
      "Cotizacion previa : 3,6390\n",
      "Diferencia: 0,36%\n",
      "\n",
      "\n",
      "Título: UNICAJA\n",
      "Cotizacion previa : 0,9555\n",
      "Diferencia: -0,47%\n"
     ]
    }
   ],
   "source": [
    "\n",
    "for row in Search3.find_elements(By.CSS_SELECTOR, 'tr'):\n",
    "    i=0\n",
    "    print('\\n')\n",
    "    for cell in row.find_elements(By.CSS_SELECTOR, 'td'):\n",
    "        if i == 0:\n",
    "            #Título = cell.text\n",
    "            print('Título:',cell.text)\n",
    "        if i== 1:\n",
    "            #Cotizacion_previa = cell.text\n",
    "            print('Cotizacion previa :', cell.text)\n",
    "        if i==2:\n",
    "            #Diferencia = cell.text\n",
    "            print('Diferencia:', cell.text)\n",
    "            \n",
    "        #df3 = pd.concat(df3, pd.DataFrame([{'Título:':Título, 'Cotizacion_previa:': Cotizacion_previa,'Diferencia:':Diferencia }]), ignore_index=True)\n",
    "        \n",
    "        i=i+1   \n",
    "\n",
    "      "
   ]
  },
  {
   "cell_type": "code",
   "execution_count": null,
   "id": "3a616d36",
   "metadata": {},
   "outputs": [],
   "source": []
  },
  {
   "cell_type": "code",
   "execution_count": null,
   "id": "f6d55781",
   "metadata": {},
   "outputs": [],
   "source": []
  }
 ],
 "metadata": {
  "kernelspec": {
   "display_name": "Python 3 (ipykernel)",
   "language": "python",
   "name": "python3"
  },
  "language_info": {
   "codemirror_mode": {
    "name": "ipython",
    "version": 3
   },
   "file_extension": ".py",
   "mimetype": "text/x-python",
   "name": "python",
   "nbconvert_exporter": "python",
   "pygments_lexer": "ipython3",
   "version": "3.10.9"
  }
 },
 "nbformat": 4,
 "nbformat_minor": 5
}
